{
 "cells": [
  {
   "cell_type": "markdown",
   "id": "2df8149a",
   "metadata": {},
   "source": [
    "# EJERCICIOS DE EVALUACIÓN FINAL \n",
    "**Autor:** Tamara  \n",
    "**Formato:** Jupyter Notebook (.ipynb) \n",
    "**Modulo:** MODULO-1 Python"
   ]
  },
  {
   "cell_type": "code",
   "execution_count": 136,
   "id": "a49d4f40",
   "metadata": {},
   "outputs": [],
   "source": [
    "##ESTRUCTURA\n",
    "# Lista vacía para almacenar los productos del inventario\n",
    "inventario = []\n",
    "# Llevar registro de los clientes de la tienda\n",
    "clientes = []\n",
    "# Llevar registro de las ventas totales de la tiende float\n",
    "ventas_totales = 0.0"
   ]
  },
  {
   "cell_type": "code",
   "execution_count": 137,
   "id": "0b4f40d9",
   "metadata": {},
   "outputs": [
    {
     "name": "stdout",
     "output_type": "stream",
     "text": [
      "Se ha agregado Smartphone al inventario.\n",
      "Se ha agregado Tablet al inventario.\n",
      "Se ha agregado Auriculares al inventario.\n",
      "Se ha agregado Teclado al inventario.\n",
      "Se ha agregado Mouse al inventario.\n",
      "Se ha agregado Monitor al inventario.\n",
      "Se ha agregado Smartwatch al inventario.\n",
      "Se ha agregado Cargador al inventario.\n",
      "Se ha agregado Router al inventario.\n",
      "[{'nombre': 'Smartphone', 'precio': 800.0, 'cantidad': 25}, {'nombre': 'Tablet', 'precio': 450.0, 'cantidad': 15}, {'nombre': 'Auriculares', 'precio': 150.0, 'cantidad': 50}, {'nombre': 'Teclado', 'precio': 70.0, 'cantidad': 40}, {'nombre': 'Mouse', 'precio': 35.0, 'cantidad': 60}, {'nombre': 'Monitor', 'precio': 300.0, 'cantidad': 20}, {'nombre': 'Smartwatch', 'precio': 200.0, 'cantidad': 30}, {'nombre': 'Cargador', 'precio': 25.0, 'cantidad': 100}, {'nombre': 'Router', 'precio': 90.0, 'cantidad': 12}]\n"
     ]
    }
   ],
   "source": [
    "##FUNCIONES\n",
    "#Esta funcion agrega un producto al inventario o actualiza su cantidad si ya existe. Debe recibir el nombre, precio y cantidad del producto comoparámetros\n",
    "def agregar_producto(nombre, precio, cantidad):\n",
    "    nombre = nombre.title()\n",
    "    for producto in inventario:\n",
    "        if producto['nombre'] == nombre:\n",
    "            producto['cantidad'] += cantidad\n",
    "            print(f\"Se han actualizado {cantidad} unidades de {nombre}.\")\n",
    "            return\n",
    "    inventario.append({'nombre': nombre, 'precio': precio, 'cantidad': cantidad})\n",
    "    print(f\"Se ha agregado {nombre} al inventario.\")\n",
    "    \n",
    "agregar_producto('Smartphone', 800.00, 25)\n",
    "agregar_producto('Tablet', 450.00, 15)\n",
    "agregar_producto('Auriculares', 150.00, 50)\n",
    "agregar_producto('Teclado', 70.00, 40)\n",
    "agregar_producto('Mouse', 35.00, 60)\n",
    "agregar_producto('Monitor', 300.00, 20)\n",
    "agregar_producto('Smartwatch', 200.00, 30)\n",
    "agregar_producto('Cargador', 25.00, 100)\n",
    "agregar_producto('Router', 90.00, 12)\n",
    "print(inventario)"
   ]
  },
  {
   "cell_type": "code",
   "execution_count": 138,
   "id": "a782a2e1",
   "metadata": {},
   "outputs": [
    {
     "name": "stdout",
     "output_type": "stream",
     "text": [
      "Nombre: Smartphone, Precio: 800.0, Cantidad: 25\n",
      "Nombre: Tablet, Precio: 450.0, Cantidad: 15\n",
      "Nombre: Auriculares, Precio: 150.0, Cantidad: 50\n",
      "Nombre: Teclado, Precio: 70.0, Cantidad: 40\n",
      "Nombre: Mouse, Precio: 35.0, Cantidad: 60\n",
      "Nombre: Monitor, Precio: 300.0, Cantidad: 20\n",
      "Nombre: Smartwatch, Precio: 200.0, Cantidad: 30\n",
      "Nombre: Cargador, Precio: 25.0, Cantidad: 100\n",
      "Nombre: Router, Precio: 90.0, Cantidad: 12\n"
     ]
    }
   ],
   "source": [
    "#Esta funcion muestra el inventario de productor con sus detalles\n",
    "def ver_inventario():\n",
    "    for producto in inventario:\n",
    "        print(f\"Nombre: {producto['nombre']}, Precio: {producto['precio']}, Cantidad: {producto['cantidad']}\")\n",
    "ver_inventario()"
   ]
  },
  {
   "cell_type": "code",
   "execution_count": 139,
   "id": "619671cf",
   "metadata": {},
   "outputs": [
    {
     "name": "stdout",
     "output_type": "stream",
     "text": [
      "El producto Camisa no se encuentra en el inventario.\n",
      "None\n",
      "El producto Pantalon no se encuentra en el inventario.\n",
      "None\n",
      "El producto Pantalon no se encuentra en el inventario.\n",
      "None\n",
      "El producto Sombrero no se encuentra en el inventario.\n",
      "None\n"
     ]
    }
   ],
   "source": [
    "#Esta funcion busca un producto en el inventario por nombre y si lo encuentra recibe el nombre del producto como parametro\n",
    "def buscar_producto(nombre):\n",
    "    nombre = nombre.title()\n",
    "    for producto in inventario:\n",
    "        if producto['nombre'] == nombre:\n",
    "            return producto\n",
    "    print(f\"El producto {nombre} no se encuentra en el inventario.\")\n",
    "\n",
    "print(buscar_producto('Camisa'))\n",
    "print(buscar_producto('pantalon'))  #con minusculas\n",
    "print(buscar_producto('Pantalon')) #con mayuscula\n",
    "print(buscar_producto('Sombrero'))  # Producto no existente"
   ]
  },
  {
   "cell_type": "code",
   "execution_count": 140,
   "id": "fe9c9e10",
   "metadata": {},
   "outputs": [
    {
     "name": "stdout",
     "output_type": "stream",
     "text": [
      "Nombre: Smartphone, Precio: 800.0, Cantidad: 25\n",
      "Nombre: Tablet, Precio: 450.0, Cantidad: 15\n",
      "Nombre: Auriculares, Precio: 150.0, Cantidad: 50\n",
      "Nombre: Teclado, Precio: 70.0, Cantidad: 40\n",
      "Nombre: Mouse, Precio: 35.0, Cantidad: 60\n",
      "Nombre: Monitor, Precio: 300.0, Cantidad: 20\n",
      "Nombre: Smartwatch, Precio: 200.0, Cantidad: 30\n",
      "Nombre: Cargador, Precio: 25.0, Cantidad: 100\n",
      "Nombre: Router, Precio: 90.0, Cantidad: 12\n",
      "None\n",
      "El producto Camisa no se encuentra en el inventario.\n",
      "El producto Pantalon no se encuentra en el inventario.\n",
      "El producto Sombrero no se encuentra en el inventario.\n"
     ]
    }
   ],
   "source": [
    "#Ver inventario y como la siguiente funcion actualiza el inventairo\n",
    "print(ver_inventario())\n",
    "\n",
    "\n",
    "#Esta funcion actualiza el stock de un producto en el inventario. (Recibe nombre y cantidad a agregar o quitar)\n",
    "def actualizar_stock(nombre, cantidad):\n",
    "    \n",
    "    for producto in inventario:\n",
    "        nombre = nombre.title()\n",
    "        if producto['nombre'] == nombre:\n",
    "            producto['cantidad'] += cantidad\n",
    "            print(f\"El stock de {nombre} ha sido actualizado. La nueva cantidad es: {producto['cantidad']}\")\n",
    "            return\n",
    "    print(f\"El producto {nombre} no se encuentra en el inventario.\")\n",
    "actualizar_stock('camisa', 20)  # Aumentar \n",
    "actualizar_stock('Pantalon', -10)  # Disminuir\n",
    "actualizar_stock('Sombrero', 5) # Producto no existe"
   ]
  },
  {
   "cell_type": "code",
   "execution_count": 141,
   "id": "817270d5",
   "metadata": {},
   "outputs": [
    {
     "name": "stdout",
     "output_type": "stream",
     "text": [
      "Nombre: Smartphone, Precio: 800.0, Cantidad: 25\n",
      "Nombre: Tablet, Precio: 450.0, Cantidad: 15\n",
      "Nombre: Auriculares, Precio: 150.0, Cantidad: 50\n",
      "Nombre: Teclado, Precio: 70.0, Cantidad: 40\n",
      "Nombre: Mouse, Precio: 35.0, Cantidad: 60\n",
      "Nombre: Monitor, Precio: 300.0, Cantidad: 20\n",
      "Nombre: Smartwatch, Precio: 200.0, Cantidad: 30\n",
      "Nombre: Cargador, Precio: 25.0, Cantidad: 100\n",
      "Nombre: Router, Precio: 90.0, Cantidad: 12\n",
      "------------------------------\n",
      "El producto Pantalon no existe. No se puede eliminar\n",
      "------------------------------\n",
      "El nuevo inventario actualizado es:\n",
      "Nombre: Smartphone, Precio: 800.0, Cantidad: 25\n",
      "Nombre: Tablet, Precio: 450.0, Cantidad: 15\n",
      "Nombre: Auriculares, Precio: 150.0, Cantidad: 50\n",
      "Nombre: Teclado, Precio: 70.0, Cantidad: 40\n",
      "Nombre: Mouse, Precio: 35.0, Cantidad: 60\n",
      "Nombre: Monitor, Precio: 300.0, Cantidad: 20\n",
      "Nombre: Smartwatch, Precio: 200.0, Cantidad: 30\n",
      "Nombre: Cargador, Precio: 25.0, Cantidad: 100\n",
      "Nombre: Router, Precio: 90.0, Cantidad: 12\n"
     ]
    }
   ],
   "source": [
    "ver_inventario() #Para ver el inventario antes de eliminar un producto\n",
    "\n",
    "#Esta funcion elimina un producto del inventario por su nombre\n",
    "def eliminar_producto(nombre):\n",
    "    nombre = nombre.title()\n",
    "    for producto in inventario:\n",
    "        if producto['nombre'] == nombre:\n",
    "            inventario.remove(producto)\n",
    "            print(f'El producto {nombre} se ha borrado del inventario')\n",
    "            return\n",
    "    print(f'El producto {nombre} no existe. No se puede eliminar')\n",
    "   \n",
    "print(\"-\" * 30)        \n",
    "eliminar_producto('Pantalon')\n",
    "print(\"-\" * 30)\n",
    "print('El nuevo inventario actualizado es:')\n",
    "ver_inventario() #Para ver el inventario despues de eliminar un producto"
   ]
  },
  {
   "cell_type": "code",
   "execution_count": 142,
   "id": "bd7564bf",
   "metadata": {},
   "outputs": [
    {
     "data": {
      "text/plain": [
       "54730.0"
      ]
     },
     "execution_count": 142,
     "metadata": {},
     "output_type": "execute_result"
    }
   ],
   "source": [
    "#Esta funcion calcula y muestra el valor total del inventario\n",
    "def calcular_valor_inventario():\n",
    "    valor_total =0.0\n",
    "    for producto in inventario:\n",
    "        valor_total += producto['precio'] * producto['cantidad']\n",
    "    return valor_total\n",
    "\n",
    "calcular_valor_inventario()"
   ]
  },
  {
   "cell_type": "code",
   "execution_count": 143,
   "id": "e7c6e71e",
   "metadata": {},
   "outputs": [],
   "source": [
    "#Permite a un cliente realizar una compra seleccionando productos del inventario. Debe interactuar con el cliente para seleccionar productos y calcular el costo total de la compra.\n",
    "\n",
    "def realizar_compra():\n",
    "    carrito = []\n",
    "    total_compra = 0.0\n",
    "    \n",
    "    nombre_cliente = input(\"Por favor, ingrese su nombre: \").title()\n",
    "    \n",
    "    while True:\n",
    "        producto_nombre = input(f\"Estos son los productor disponibles:------------ {inventario} .\\nDime el NOMBRE del producto que desea comprar o escribe 'salir' para finalizar su compra. SI EL PRODUCTO NO EXISTE EL PROGRAMA SE PARARA \").title()\n",
    "        \n",
    "        if producto_nombre.lower() == 'salir':\n",
    "            break\n",
    "        producto = buscar_producto(producto_nombre)\n",
    "        \n",
    "        while not producto: #Si el producto no esta en la lista entra en bucle hasta que este en la lista\n",
    "            producto_nombre =input(f\"El producto {producto_nombre} NO está disponible en este inventario. Estos son los productor disponibles:------------ {inventario} .\\nDime el NOMBRE del producto que desea comprar o escribe 'salir' para finalizar su compra. SI EL PRODUCTO NO EXISTE EL PROGRAMA SE PARARA \").title()\n",
    "            producto = buscar_producto(producto_nombre)\n",
    "            \n",
    "        \n",
    "        if producto: #Si el producto esta en la lista seguimos con cantidad\n",
    "            cantidad = int(input(f\"¿Cuántas unidades de {producto_nombre} quiere comprar? \"))\n",
    "            \n",
    "            if cantidad <= producto['cantidad']:\n",
    "                carrito.append({'nombre': producto_nombre, 'precio': producto['precio'], 'cantidad': cantidad})\n",
    "                total_compra += producto['precio'] * cantidad\n",
    "                actualizar_stock(producto_nombre, -cantidad)\n",
    "                print(f\"{cantidad} unidades de {producto_nombre} agregadas al carrito.\")\n",
    "            else:\n",
    "                print(f\"No hay suficiente stock de {producto_nombre}. Stock disponible: {producto['cantidad']}\")\n",
    "                \n",
    "            seguir_comprando = input(\"¿Quiere seguir comprando? (si/no): \").lower()\n",
    "            if seguir_comprando == 'no':\n",
    "                break\n",
    "            elif seguir_comprando != 'si':\n",
    "                print(\"Por favor, responda 'si' o 'no'.\\n\")\n",
    "        \n",
    "        else:\n",
    "            print(f\"El producto {producto_nombre} no está disponible en este inventario.\")\n",
    "            \n",
    "            \n",
    "    #clientes.append({\n",
    "    #    'nombre_cliente': nombre_cliente,\n",
    "    #    'carrito': carrito,\n",
    "    #    'total': total_compra\n",
    "    #})\n",
    "    print(\"-\" * 30)         \n",
    "    print(\"\\nCompra finalizada. Detalles del carrito:\")\n",
    "    print(\"-\" * 30)  \n",
    "    for item in carrito:\n",
    "        print(f\"Producto: {item['nombre']}, Precio: {item['precio']}, Cantidad: {item['cantidad']}\")\n",
    "    print(\"-\" * 30)  \n",
    "    print(f\"Gracias por la compra {nombre_cliente}. Total a pagar: {total_compra}\")\n",
    "    return total_compra\n",
    "\n"
   ]
  },
  {
   "cell_type": "code",
   "execution_count": 144,
   "id": "25f44c96",
   "metadata": {},
   "outputs": [
    {
     "name": "stdout",
     "output_type": "stream",
     "text": [
      "El stock de Smartphone ha sido actualizado. La nueva cantidad es: 24\n",
      "1 unidades de Smartphone agregadas al carrito.\n",
      "------------------------------\n",
      "\n",
      "Compra finalizada. Detalles del carrito:\n",
      "------------------------------\n",
      "Producto: Smartphone, Precio: 800.0, Cantidad: 1\n",
      "------------------------------\n",
      "Gracias por la compra Catalina. Total a pagar: 800.0\n"
     ]
    },
    {
     "data": {
      "text/plain": [
       "800.0"
      ]
     },
     "execution_count": 144,
     "metadata": {},
     "output_type": "execute_result"
    }
   ],
   "source": [
    "realizar_compra()\n"
   ]
  },
  {
   "cell_type": "code",
   "execution_count": 145,
   "id": "ffe2f4f6",
   "metadata": {},
   "outputs": [
    {
     "name": "stdout",
     "output_type": "stream",
     "text": [
      "<class 'list'>\n",
      "[]\n"
     ]
    }
   ],
   "source": [
    "print(type(clientes))\n",
    "print(clientes)\n"
   ]
  },
  {
   "cell_type": "markdown",
   "id": "69e2cefd",
   "metadata": {},
   "source": [
    "# BONUS"
   ]
  },
  {
   "cell_type": "code",
   "execution_count": 146,
   "id": "66d5302e",
   "metadata": {},
   "outputs": [
    {
     "name": "stdout",
     "output_type": "stream",
     "text": [
      "El pago de 60.0 se ha hecho exitosamente. Has pagado con 100.0 el cambio del total es 40.0 a devolver al pagador\n"
     ]
    }
   ],
   "source": [
    "#Esta funcion procesa el pago de una compra, calcula el cambio y muestra mensaje de confirmacion\n",
    "def procesar_pago(): \n",
    "    while True:\n",
    "        try:\n",
    "            total_a_pagar = float(input(\"Por favor, ingrese el total de la compra\"))\n",
    "            if total_a_pagar <= 0:\n",
    "                print(\"El importe debe ser mayor que 0.\")\n",
    "                continue\n",
    "            break\n",
    "        except ValueError:\n",
    "            print(\"No es un importe válido. Intente nuevamente.\")\n",
    "            \n",
    "        \n",
    "    pago = float(input(\"Ingrese la cantidad con la que va a pagar: \"))\n",
    "    while pago < total_a_pagar:\n",
    "        print(\"La cantidad ingresada es insuficiente. Por favor, ingrese una cantidad válida.\")\n",
    "        pago = float(input(\"Ingrese la cantidad con la que va a pagar: \"))\n",
    "        \n",
    "    if pago >= total_a_pagar:\n",
    "        cambio = pago - total_a_pagar \n",
    "        print(f\"El pago de {total_a_pagar} se ha hecho exitosamente. Has pagado con {pago} el cambio del total es {cambio} a devolver al pagador\")\n",
    "        \n",
    "procesar_pago()"
   ]
  },
  {
   "cell_type": "code",
   "execution_count": 147,
   "id": "1a8056ed",
   "metadata": {},
   "outputs": [
    {
     "name": "stdout",
     "output_type": "stream",
     "text": [
      "El cliente Marta con el email: martagom@gmail.com ha sido agregado a la lista de cliente\n",
      "El cliente Lola con el email: lolaest66@hotmail.com ha sido agregado a la lista de cliente\n",
      "El cliente Ana con el email: ana88@gmail.com ha sido agregado a la lista de cliente\n",
      "El cliente Patricia con el email: patri1987@gmail.com ha sido agregado a la lista de cliente\n"
     ]
    }
   ],
   "source": [
    "#Esta funcion agrega un nuevo cliente al registro de clientes con nombre y el correo electrónico \n",
    "def agregar_cliente(nombre, email):\n",
    "    \n",
    "    cliente = ({\n",
    "        'nombre': nombre,\n",
    "        'email': email,\n",
    "        'compras': []\n",
    "    })\n",
    "    clientes.append(cliente)\n",
    "    print(f\"El cliente {nombre} con el email: {email} ha sido agregado a la lista de cliente\")\n",
    "    \n",
    "#Agregar clientes   \n",
    "agregar_cliente('Marta', 'martagom@gmail.com')\n",
    "agregar_cliente('Lola', 'lolaest66@hotmail.com')\n",
    "agregar_cliente('Ana', 'ana88@gmail.com')\n",
    "agregar_cliente('Patricia', 'patri1987@gmail.com')\n",
    "\n",
    "#Agregar compra\n",
    "clientes[0]['compras'].append('Portatil HP')\n",
    "clientes[1]['compras'].append('Mouse')\n",
    "clientes[3]['compras'].append('iphone')\n"
   ]
  },
  {
   "cell_type": "code",
   "execution_count": 148,
   "id": "8f1b7312",
   "metadata": {},
   "outputs": [
    {
     "name": "stdout",
     "output_type": "stream",
     "text": [
      "Esta es la lista de clientes:\n",
      "Nombre: Marta, Email: martagom@gmail.com, Compras: ['Portatil HP']\n",
      "Nombre: Lola, Email: lolaest66@hotmail.com, Compras: ['Mouse']\n",
      "Nombre: Ana, Email: ana88@gmail.com, Compras: []\n",
      "Nombre: Patricia, Email: patri1987@gmail.com, Compras: ['iphone']\n"
     ]
    }
   ],
   "source": [
    "#Esta funcion muestra la lista de clientes registrados\n",
    "def ver_clientes():\n",
    "    print(f\"Esta es la lista de clientes:\")\n",
    "    for i in clientes:\n",
    "        print(f\"Nombre: {i['nombre']}, Email: {i['email']}, Compras: {i['compras']}\")\n",
    "        \n",
    "ver_clientes()"
   ]
  },
  {
   "cell_type": "code",
   "execution_count": 152,
   "id": "4acd4703",
   "metadata": {},
   "outputs": [
    {
     "name": "stdout",
     "output_type": "stream",
     "text": [
      "Compra NO registrada porque el cliente Manue no existe\n",
      "Compra registrada correctamente para Lola\n",
      "Compra registrada correctamente para Marta\n"
     ]
    }
   ],
   "source": [
    "#Registra una compra para un cliente, actualiza las ventas totales y agrega la compra al historial del cliente.\n",
    "def registrar_compra(nombre_cliente, carrito):\n",
    "    encontrado = False\n",
    "    \n",
    "    for cliente in clientes:\n",
    "        if cliente['nombre'].lower() == nombre_cliente.lower():\n",
    "            encontrado = True\n",
    "            \n",
    "            cliente['compras'].append({\n",
    "                'carrito': carrito,\n",
    "                'total': []\n",
    "            })   \n",
    "            print(f'Compra registrada correctamente para {nombre_cliente}')\n",
    "            \n",
    "    if not encontrado:\n",
    "        print(f'Compra NO registrada porque el cliente {nombre_cliente} no existe')       \n",
    "            \n",
    "        \n",
    "registrar_compra('Manue',12)\n",
    "registrar_compra('Lola',5)\n",
    "registrar_compra('Marta',23)\n",
    "    \n",
    "    \n",
    "    "
   ]
  },
  {
   "cell_type": "code",
   "execution_count": 150,
   "id": "adef2c64",
   "metadata": {},
   "outputs": [
    {
     "ename": "_IncompleteInputError",
     "evalue": "incomplete input (3297057711.py, line 2)",
     "output_type": "error",
     "traceback": [
      "  \u001b[36mCell\u001b[39m\u001b[36m \u001b[39m\u001b[32mIn[150]\u001b[39m\u001b[32m, line 2\u001b[39m\n\u001b[31m    \u001b[39m\u001b[31mdef ver_compras_cliente(nombre_cliente):\u001b[39m\n                                            ^\n\u001b[31m_IncompleteInputError\u001b[39m\u001b[31m:\u001b[39m incomplete input\n"
     ]
    }
   ],
   "source": [
    "#Muestra el historial de compras de un cliente\n",
    "def ver_compras_cliente(nombre_cliente):"
   ]
  },
  {
   "cell_type": "code",
   "execution_count": null,
   "id": "5c198bc4",
   "metadata": {},
   "outputs": [],
   "source": [
    "def calcular_ventas_totales()"
   ]
  },
  {
   "cell_type": "markdown",
   "id": "049299d0",
   "metadata": {},
   "source": [
    "## SUPER BONUS: Integracion a Clase\n",
    "Crea la clase Tienda Online y refactoriza todos los métodos anteriores. Mueve las estructuras globales\n",
    "al constructor (__init__) como atributos de la instancia (self.inventario, self.clientes, etc.) y\n",
    "conviértelas en métodos de la clase, usando self.."
   ]
  },
  {
   "cell_type": "code",
   "execution_count": null,
   "id": "6750be8d",
   "metadata": {},
   "outputs": [],
   "source": []
  },
  {
   "cell_type": "code",
   "execution_count": null,
   "id": "6274ae84",
   "metadata": {},
   "outputs": [],
   "source": []
  }
 ],
 "metadata": {
  "kernelspec": {
   "display_name": "Python 3",
   "language": "python",
   "name": "python3"
  },
  "language_info": {
   "codemirror_mode": {
    "name": "ipython",
    "version": 3
   },
   "file_extension": ".py",
   "mimetype": "text/x-python",
   "name": "python",
   "nbconvert_exporter": "python",
   "pygments_lexer": "ipython3",
   "version": "3.13.7"
  }
 },
 "nbformat": 4,
 "nbformat_minor": 5
}
