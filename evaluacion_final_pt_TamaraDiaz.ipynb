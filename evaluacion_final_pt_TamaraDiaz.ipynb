{
 "cells": [
  {
   "cell_type": "markdown",
   "id": "2df8149a",
   "metadata": {},
   "source": [
    "# EJERCICIOS DE EVALUACIÓN FINAL \n",
    "**Autor:** Tamara  \n",
    "**Formato:** Jupyter Notebook (.ipynb) \n",
    "**Modulo:** MODULO-1 Python"
   ]
  },
  {
   "cell_type": "code",
   "execution_count": 1,
   "id": "a49d4f40",
   "metadata": {},
   "outputs": [],
   "source": [
    "##ESTRUCTURA\n",
    "# Lista vacía para almacenar los productos del inventario\n",
    "inventario = []\n",
    "# Llevar registro de los clientes de la tienda\n",
    "clientes = []\n",
    "# Llevar registro de las ventas totales de la tiende float\n",
    "ventas_totales = 0.0"
   ]
  },
  {
   "cell_type": "code",
   "execution_count": 2,
   "id": "0b4f40d9",
   "metadata": {},
   "outputs": [
    {
     "name": "stdout",
     "output_type": "stream",
     "text": [
      "Se ha agregado Camisa al inventario.\n",
      "Se ha agregado Pantalon al inventario.\n",
      "Se ha agregado Zapatos al inventario.\n",
      "Se han actualizado 50 unidades de Camisa.\n",
      "[{'nombre': 'Camisa', 'precio': 20.0, 'cantidad': 100}, {'nombre': 'Pantalon', 'precio': 30.0, 'cantidad': 30}, {'nombre': 'Zapatos', 'precio': 50.0, 'cantidad': 40}]\n"
     ]
    }
   ],
   "source": [
    "##FUNCIONES\n",
    "#Agrega un producto al inventario o actualiza su cantidad si ya existe. Debe recibir el nombre, precio y cantidad del producto comoparámetros\n",
    "def agregar_producto(nombre, precio, cantidad):\n",
    "    for producto in inventario:\n",
    "        if producto['nombre'] == nombre.title():\n",
    "            producto['cantidad'] += cantidad\n",
    "            print(f\"Se han actualizado {cantidad} unidades de {nombre}.\")\n",
    "            return\n",
    "    inventario.append({'nombre': nombre, 'precio': precio, 'cantidad': cantidad})\n",
    "    print(f\"Se ha agregado {nombre} al inventario.\")\n",
    "    \n",
    "agregar_producto('Camisa', 20.00, 50)\n",
    "agregar_producto('Pantalon', 30.00, 30)\n",
    "agregar_producto('Zapatos', 50.00, 40)\n",
    "agregar_producto('Camisa', 20.00, 50)\n",
    "print(inventario)"
   ]
  },
  {
   "cell_type": "code",
   "execution_count": 3,
   "id": "a782a2e1",
   "metadata": {},
   "outputs": [
    {
     "name": "stdout",
     "output_type": "stream",
     "text": [
      "Nombre: Camisa, Precio: 20.0, Cantidad: 100\n",
      "Nombre: Pantalon, Precio: 30.0, Cantidad: 30\n",
      "Nombre: Zapatos, Precio: 50.0, Cantidad: 40\n"
     ]
    }
   ],
   "source": [
    "#Muestra el inventario de productor con sus detalles\n",
    "def ver_inventario():\n",
    "    for producto in inventario:\n",
    "        print(f\"Nombre: {producto['nombre']}, Precio: {producto['precio']}, Cantidad: {producto['cantidad']}\")\n",
    "ver_inventario()"
   ]
  },
  {
   "cell_type": "code",
   "execution_count": 4,
   "id": "619671cf",
   "metadata": {},
   "outputs": [
    {
     "name": "stdout",
     "output_type": "stream",
     "text": [
      "{'nombre': 'Camisa', 'precio': 20.0, 'cantidad': 100}\n",
      "{'nombre': 'Pantalon', 'precio': 30.0, 'cantidad': 30}\n",
      "{'nombre': 'Pantalon', 'precio': 30.0, 'cantidad': 30}\n",
      "El producto Sombrero no se encuentra en el inventario.\n",
      "None\n"
     ]
    }
   ],
   "source": [
    "#Busca un producto en el inventario por nombre y si lo encuentra recibe el nombre del producto como parametro\n",
    "def buscar_producto(nombre):\n",
    "    for producto in inventario:\n",
    "        if producto['nombre'] == nombre.title():\n",
    "            return producto\n",
    "    print(f\"El producto {nombre} no se encuentra en el inventario.\")\n",
    "\n",
    "print(buscar_producto('Camisa'))\n",
    "print(buscar_producto('pantalon'))  #con minusculas\n",
    "print(buscar_producto('Pantalon')) #con mayuscula\n",
    "print(buscar_producto('Sombrero'))  # Producto no existente"
   ]
  },
  {
   "cell_type": "code",
   "execution_count": null,
   "id": "fe9c9e10",
   "metadata": {},
   "outputs": [
    {
     "ename": "KeyError",
     "evalue": "'Nombre'",
     "output_type": "error",
     "traceback": [
      "\u001b[31m---------------------------------------------------------------------------\u001b[39m",
      "\u001b[31mKeyError\u001b[39m                                  Traceback (most recent call last)",
      "\u001b[36mCell\u001b[39m\u001b[36m \u001b[39m\u001b[32mIn[10]\u001b[39m\u001b[32m, line 10\u001b[39m\n\u001b[32m      7\u001b[39m             \u001b[38;5;28;01mreturn\u001b[39;00m\n\u001b[32m      8\u001b[39m     \u001b[38;5;28mprint\u001b[39m(\u001b[33mf\u001b[39m\u001b[33m\"\u001b[39m\u001b[33mEl producto \u001b[39m\u001b[38;5;132;01m{\u001b[39;00mnombre\u001b[38;5;132;01m}\u001b[39;00m\u001b[33m no se encuentra en el inventario.\u001b[39m\u001b[33m\"\u001b[39m)\n\u001b[32m---> \u001b[39m\u001b[32m10\u001b[39m \u001b[43mactualizar_stock\u001b[49m\u001b[43m(\u001b[49m\u001b[33;43m'\u001b[39;49m\u001b[33;43mcamisaa\u001b[39;49m\u001b[33;43m'\u001b[39;49m\u001b[43m,\u001b[49m\u001b[43m \u001b[49m\u001b[32;43m20\u001b[39;49m\u001b[43m)\u001b[49m  \u001b[38;5;66;03m# Aumentar stock\u001b[39;00m\n\u001b[32m     11\u001b[39m actualizar_stock(\u001b[33m'\u001b[39m\u001b[33mPantalon\u001b[39m\u001b[33m'\u001b[39m, -\u001b[32m10\u001b[39m)  \u001b[38;5;66;03m# Disminuir stock\u001b[39;00m\n\u001b[32m     12\u001b[39m actualizar_stock(\u001b[33m'\u001b[39m\u001b[33mSombrero\u001b[39m\u001b[33m'\u001b[39m, \u001b[32m5\u001b[39m) \u001b[38;5;66;03m# Producto no existente\u001b[39;00m\n",
      "\u001b[36mCell\u001b[39m\u001b[36m \u001b[39m\u001b[32mIn[10]\u001b[39m\u001b[32m, line 4\u001b[39m, in \u001b[36mactualizar_stock\u001b[39m\u001b[34m(nombre, cantidad)\u001b[39m\n\u001b[32m      2\u001b[39m \u001b[38;5;28;01mdef\u001b[39;00m\u001b[38;5;250m \u001b[39m\u001b[34mactualizar_stock\u001b[39m(nombre, cantidad):\n\u001b[32m      3\u001b[39m     \u001b[38;5;28;01mfor\u001b[39;00m producto \u001b[38;5;129;01min\u001b[39;00m inventario:\n\u001b[32m----> \u001b[39m\u001b[32m4\u001b[39m         \u001b[38;5;28;01mif\u001b[39;00m \u001b[43mproducto\u001b[49m\u001b[43m[\u001b[49m\u001b[33;43m'\u001b[39;49m\u001b[33;43mNombre\u001b[39;49m\u001b[33;43m'\u001b[39;49m\u001b[43m]\u001b[49m == nombre.title():\n\u001b[32m      5\u001b[39m             producto[\u001b[33m'\u001b[39m\u001b[33mCantidad\u001b[39m\u001b[33m'\u001b[39m] += cantidad\n\u001b[32m      6\u001b[39m             \u001b[38;5;28mprint\u001b[39m(\u001b[33mf\u001b[39m\u001b[33m\"\u001b[39m\u001b[33mEl stock de \u001b[39m\u001b[38;5;132;01m{\u001b[39;00mnombre\u001b[38;5;132;01m}\u001b[39;00m\u001b[33m ha sido actualizado. La nueva cantidad es: \u001b[39m\u001b[38;5;132;01m{\u001b[39;00mproducto[\u001b[33m'\u001b[39m\u001b[33mCantidad\u001b[39m\u001b[33m'\u001b[39m]\u001b[38;5;132;01m}\u001b[39;00m\u001b[33m\"\u001b[39m)\n",
      "\u001b[31mKeyError\u001b[39m: 'Nombre'"
     ]
    }
   ],
   "source": [
    "#Actualiza el stock de un producto en el inventario. Recibe nombre y Cantidad a agregar o quitar\n",
    "def actualizar_stock(nombre, cantidad):\n",
    "    for producto in inventario:\n",
    "        if producto['Nombre'] == nombre.title():\n",
    "            producto['Cantidad'] += cantidad\n",
    "            print(f\"El stock de {nombre} ha sido actualizado. La nueva cantidad es: {producto['Cantidad']}\")\n",
    "            return\n",
    "    print(f\"El producto {nombre} no se encuentra en el inventario.\")\n",
    "    \n",
    "actualizar_stock('camisa', 20)  # Aumentar stock\n",
    "actualizar_stock('Pantalon', -10)  # Disminuir stock\n",
    "actualizar_stock('Sombrero', 5) # Producto no existente"
   ]
  },
  {
   "cell_type": "code",
   "execution_count": null,
   "id": "817270d5",
   "metadata": {},
   "outputs": [],
   "source": []
  }
 ],
 "metadata": {
  "kernelspec": {
   "display_name": "Python 3",
   "language": "python",
   "name": "python3"
  },
  "language_info": {
   "codemirror_mode": {
    "name": "ipython",
    "version": 3
   },
   "file_extension": ".py",
   "mimetype": "text/x-python",
   "name": "python",
   "nbconvert_exporter": "python",
   "pygments_lexer": "ipython3",
   "version": "3.13.7"
  }
 },
 "nbformat": 4,
 "nbformat_minor": 5
}
