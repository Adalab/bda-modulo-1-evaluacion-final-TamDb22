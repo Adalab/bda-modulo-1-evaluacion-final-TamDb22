{
 "cells": [
  {
   "cell_type": "markdown",
   "id": "2df8149a",
   "metadata": {},
   "source": [
    "# EJERCICIOS DE EVALUACIÓN FINAL \n",
    "**Autor:** Tamara  \n",
    "**Formato:** Jupyter Notebook (.ipynb) \n",
    "**Modulo:** MODULO-1 Python"
   ]
  },
  {
   "cell_type": "code",
   "execution_count": 59,
   "id": "a49d4f40",
   "metadata": {},
   "outputs": [],
   "source": [
    "##ESTRUCTURA\n",
    "# Lista vacía para almacenar los productos del inventario\n",
    "inventario = []\n",
    "# Llevar registro de los clientes de la tienda\n",
    "clientes = []\n",
    "# Llevar registro de las ventas totales de la tiende float\n",
    "ventas_totales = 0.0"
   ]
  },
  {
   "cell_type": "code",
   "execution_count": 60,
   "id": "0b4f40d9",
   "metadata": {},
   "outputs": [
    {
     "name": "stdout",
     "output_type": "stream",
     "text": [
      "Se ha agregado Camisa al inventario.\n",
      "Se ha agregado Pantalon al inventario.\n",
      "Se ha agregado Zapatos al inventario.\n",
      "Se han actualizado 50 unidades de Camisa.\n",
      "[{'nombre': 'Camisa', 'precio': 20.0, 'cantidad': 100}, {'nombre': 'Pantalon', 'precio': 30.0, 'cantidad': 30}, {'nombre': 'Zapatos', 'precio': 50.0, 'cantidad': 40}]\n"
     ]
    }
   ],
   "source": [
    "##FUNCIONES\n",
    "#Esta funcion agrega un producto al inventario o actualiza su cantidad si ya existe. Debe recibir el nombre, precio y cantidad del producto comoparámetros\n",
    "def agregar_producto(nombre, precio, cantidad):\n",
    "    nombre = nombre.title()\n",
    "    for producto in inventario:\n",
    "        if producto['nombre'] == nombre:\n",
    "            producto['cantidad'] += cantidad\n",
    "            print(f\"Se han actualizado {cantidad} unidades de {nombre}.\")\n",
    "            return\n",
    "    inventario.append({'nombre': nombre, 'precio': precio, 'cantidad': cantidad})\n",
    "    print(f\"Se ha agregado {nombre} al inventario.\")\n",
    "    \n",
    "agregar_producto('Camisa', 20.00, 50)\n",
    "agregar_producto('Pantalon', 30.00, 30)\n",
    "agregar_producto('Zapatos', 50.00, 40)\n",
    "agregar_producto('Camisa', 20.00, 50)\n",
    "print(inventario)"
   ]
  },
  {
   "cell_type": "code",
   "execution_count": 61,
   "id": "a782a2e1",
   "metadata": {},
   "outputs": [
    {
     "name": "stdout",
     "output_type": "stream",
     "text": [
      "Nombre: Camisa, Precio: 20.0, Cantidad: 100\n",
      "Nombre: Pantalon, Precio: 30.0, Cantidad: 30\n",
      "Nombre: Zapatos, Precio: 50.0, Cantidad: 40\n"
     ]
    }
   ],
   "source": [
    "#Esta funcion muestra el inventario de productor con sus detalles\n",
    "def ver_inventario():\n",
    "    for producto in inventario:\n",
    "        print(f\"Nombre: {producto['nombre']}, Precio: {producto['precio']}, Cantidad: {producto['cantidad']}\")\n",
    "ver_inventario()"
   ]
  },
  {
   "cell_type": "code",
   "execution_count": 62,
   "id": "619671cf",
   "metadata": {},
   "outputs": [
    {
     "name": "stdout",
     "output_type": "stream",
     "text": [
      "{'nombre': 'Camisa', 'precio': 20.0, 'cantidad': 100}\n",
      "{'nombre': 'Pantalon', 'precio': 30.0, 'cantidad': 30}\n",
      "{'nombre': 'Pantalon', 'precio': 30.0, 'cantidad': 30}\n",
      "El producto Sombrero no se encuentra en el inventario.\n",
      "None\n"
     ]
    }
   ],
   "source": [
    "#Esta funcion busca un producto en el inventario por nombre y si lo encuentra recibe el nombre del producto como parametro\n",
    "def buscar_producto(nombre):\n",
    "    nombre = nombre.title()\n",
    "    for producto in inventario:\n",
    "        if producto['nombre'] == nombre:\n",
    "            return producto\n",
    "    print(f\"El producto {nombre} no se encuentra en el inventario.\")\n",
    "\n",
    "print(buscar_producto('Camisa'))\n",
    "print(buscar_producto('pantalon'))  #con minusculas\n",
    "print(buscar_producto('Pantalon')) #con mayuscula\n",
    "print(buscar_producto('Sombrero'))  # Producto no existente"
   ]
  },
  {
   "cell_type": "code",
   "execution_count": 63,
   "id": "fe9c9e10",
   "metadata": {},
   "outputs": [
    {
     "name": "stdout",
     "output_type": "stream",
     "text": [
      "Nombre: Camisa, Precio: 20.0, Cantidad: 100\n",
      "Nombre: Pantalon, Precio: 30.0, Cantidad: 30\n",
      "Nombre: Zapatos, Precio: 50.0, Cantidad: 40\n",
      "None\n",
      "El stock de Camisa ha sido actualizado. La nueva cantidad es: 120\n",
      "El stock de Pantalon ha sido actualizado. La nueva cantidad es: 20\n",
      "El producto Sombrero no se encuentra en el inventario.\n"
     ]
    }
   ],
   "source": [
    "#Ver inventario y como la siguiente funcion actualiza el inventairo\n",
    "print(ver_inventario())\n",
    "\n",
    "\n",
    "#Esta funcion actualiza el stock de un producto en el inventario. (Recibe nombre y cantidad a agregar o quitar)\n",
    "def actualizar_stock(nombre, cantidad):\n",
    "    \n",
    "    for producto in inventario:\n",
    "        nombre = nombre.title()\n",
    "        if producto['nombre'] == nombre:\n",
    "            producto['cantidad'] += cantidad\n",
    "            print(f\"El stock de {nombre} ha sido actualizado. La nueva cantidad es: {producto['cantidad']}\")\n",
    "            return\n",
    "    print(f\"El producto {nombre} no se encuentra en el inventario.\")\n",
    "actualizar_stock('camisa', 20)  # Aumentar \n",
    "actualizar_stock('Pantalon', -10)  # Disminuir\n",
    "actualizar_stock('Sombrero', 5) # Producto no existe"
   ]
  },
  {
   "cell_type": "code",
   "execution_count": 64,
   "id": "817270d5",
   "metadata": {},
   "outputs": [
    {
     "name": "stdout",
     "output_type": "stream",
     "text": [
      "Nombre: Camisa, Precio: 20.0, Cantidad: 120\n",
      "Nombre: Pantalon, Precio: 30.0, Cantidad: 20\n",
      "Nombre: Zapatos, Precio: 50.0, Cantidad: 40\n",
      "------------------------------\n",
      "El producto Pantalon se ha borrado del inventario\n",
      "El producto Pantalon no existe. No se puede eliminar\n",
      "------------------------------\n",
      "El nuevo inventario actualizado es:\n",
      "Nombre: Camisa, Precio: 20.0, Cantidad: 120\n",
      "Nombre: Zapatos, Precio: 50.0, Cantidad: 40\n"
     ]
    }
   ],
   "source": [
    "ver_inventario()\n",
    "\n",
    "#Esta funcion elimina un producto del inventario por su nombre\n",
    "def eliminar_producto(nombre):\n",
    "    nombre = nombre.title()\n",
    "    for producto in inventario:\n",
    "        if producto['nombre'] == nombre:\n",
    "            inventario.remove(producto)\n",
    "            print(f'El producto {nombre} se ha borrado del inventario')\n",
    "            break\n",
    "    print(f'El producto {nombre} no existe. No se puede eliminar')\n",
    "   \n",
    "print(\"-\" * 30)        \n",
    "eliminar_producto('Pantalon')\n",
    "print(\"-\" * 30)\n",
    "print('El nuevo inventario actualizado es:')\n",
    "ver_inventario()"
   ]
  },
  {
   "cell_type": "code",
   "execution_count": null,
   "id": "bd7564bf",
   "metadata": {},
   "outputs": [],
   "source": []
  }
 ],
 "metadata": {
  "kernelspec": {
   "display_name": "Python 3",
   "language": "python",
   "name": "python3"
  },
  "language_info": {
   "codemirror_mode": {
    "name": "ipython",
    "version": 3
   },
   "file_extension": ".py",
   "mimetype": "text/x-python",
   "name": "python",
   "nbconvert_exporter": "python",
   "pygments_lexer": "ipython3",
   "version": "3.13.7"
  }
 },
 "nbformat": 4,
 "nbformat_minor": 5
}
